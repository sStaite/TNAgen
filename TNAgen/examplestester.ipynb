{
 "cells": [
  {
   "cell_type": "code",
   "execution_count": 1,
   "metadata": {},
   "outputs": [
    {
     "name": "stdout",
     "output_type": "stream",
     "text": [
      "/Users/seamus/Desktop/OzGrav/TNAgen/TNAgen\n"
     ]
    }
   ],
   "source": [
    "from Generator import Generator\n",
    "import numpy as np\n",
    "import os\n",
    "\n",
    "print(os.getcwd())"
   ]
  },
  {
   "cell_type": "code",
   "execution_count": 3,
   "metadata": {},
   "outputs": [
    {
     "name": "stdout",
     "output_type": "stream",
     "text": [
      "Generating images: 25/25 [--------------------]\n"
     ]
    },
    {
     "ename": "TypeError",
     "evalue": "descriptor 'normal' for 'numpy.random._generator.Generator' objects doesn't apply to a 'int' object",
     "output_type": "error",
     "traceback": [
      "\u001b[0;31m---------------------------------------------------------------------------\u001b[0m",
      "\u001b[0;31mTypeError\u001b[0m                                 Traceback (most recent call last)",
      "Cell \u001b[0;32mIn[3], line 4\u001b[0m\n\u001b[1;32m      1\u001b[0m generator \u001b[39m=\u001b[39m Generator()\n\u001b[1;32m      3\u001b[0m generator\u001b[39m.\u001b[39mgenerate(\u001b[39m\"\u001b[39m\u001b[39mTomte\u001b[39m\u001b[39m\"\u001b[39m, \u001b[39m25\u001b[39m, SNR\u001b[39m=\u001b[39m\u001b[39m12.\u001b[39m)\n\u001b[0;32m----> 4\u001b[0m generator\u001b[39m.\u001b[39mgenerate(\u001b[39m\"\u001b[39m\u001b[39mBlip\u001b[39m\u001b[39m\"\u001b[39m, \u001b[39m25\u001b[39m, SNR\u001b[39m=\u001b[39mnp\u001b[39m.\u001b[39;49mrandom\u001b[39m.\u001b[39;49mGenerator\u001b[39m.\u001b[39;49mnormal(\u001b[39m12\u001b[39;49m, \u001b[39m2\u001b[39;49m, \u001b[39m25\u001b[39;49m))\n\u001b[1;32m      5\u001b[0m generator\u001b[39m.\u001b[39msave_as_array(\u001b[39mNone\u001b[39;00m)\n",
      "\u001b[0;31mTypeError\u001b[0m: descriptor 'normal' for 'numpy.random._generator.Generator' objects doesn't apply to a 'int' object"
     ]
    }
   ],
   "source": [
    "generator = Generator()\n",
    "\n",
    "generator.generate(\"Tomte\", 25, SNR=12.)\n",
    "generator.generate(\"Blip\", 25, SNR=np.random.normal(12, 2, 25))\n",
    "generator.save_as_array(None)"
   ]
  },
  {
   "cell_type": "code",
   "execution_count": null,
   "metadata": {},
   "outputs": [],
   "source": []
  }
 ],
 "metadata": {
  "kernelspec": {
   "display_name": "ptenv",
   "language": "python",
   "name": "python3"
  },
  "language_info": {
   "codemirror_mode": {
    "name": "ipython",
    "version": 3
   },
   "file_extension": ".py",
   "mimetype": "text/x-python",
   "name": "python",
   "nbconvert_exporter": "python",
   "pygments_lexer": "ipython3",
   "version": "3.10.8"
  },
  "orig_nbformat": 4,
  "vscode": {
   "interpreter": {
    "hash": "b0ae5f5475f8ce4fdbced31bb7e10549994fbb86795b8df593119bef6cd7521a"
   }
  }
 },
 "nbformat": 4,
 "nbformat_minor": 2
}
